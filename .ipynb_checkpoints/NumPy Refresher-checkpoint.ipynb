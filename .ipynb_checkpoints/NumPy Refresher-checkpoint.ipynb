{
 "cells": [
  {
   "cell_type": "markdown",
   "metadata": {},
   "source": [
    "# NumPy"
   ]
  },
  {
   "cell_type": "markdown",
   "metadata": {},
   "source": [
    "## `ndarray`"
   ]
  },
  {
   "cell_type": "code",
   "execution_count": 1,
   "metadata": {
    "collapsed": true
   },
   "outputs": [],
   "source": [
    "import numpy as np"
   ]
  },
  {
   "cell_type": "markdown",
   "metadata": {},
   "source": [
    "The main object of NumPy is the _homogeneous multidimensional array_, `ndarray`. It has dimensions, called _axes_. The number of axes is called _rank_.`"
   ]
  },
  {
   "cell_type": "code",
   "execution_count": 2,
   "metadata": {
    "collapsed": true
   },
   "outputs": [],
   "source": [
    "a = np.array([[1., 2., 1.],\n",
    "              [4., 3., 2.]])"
   ]
  },
  {
   "cell_type": "markdown",
   "metadata": {},
   "source": [
    "Attributes:"
   ]
  },
  {
   "cell_type": "code",
   "execution_count": 5,
   "metadata": {},
   "outputs": [
    {
     "data": {
      "text/plain": [
       "2"
      ]
     },
     "execution_count": 5,
     "metadata": {},
     "output_type": "execute_result"
    }
   ],
   "source": [
    "a.ndim  # rank"
   ]
  },
  {
   "cell_type": "code",
   "execution_count": 4,
   "metadata": {},
   "outputs": [
    {
     "data": {
      "text/plain": [
       "(2, 3)"
      ]
     },
     "execution_count": 4,
     "metadata": {},
     "output_type": "execute_result"
    }
   ],
   "source": [
    "a.shape  # axes tuple"
   ]
  },
  {
   "cell_type": "code",
   "execution_count": 7,
   "metadata": {},
   "outputs": [
    {
     "data": {
      "text/plain": [
       "6"
      ]
     },
     "execution_count": 7,
     "metadata": {},
     "output_type": "execute_result"
    }
   ],
   "source": [
    "a.size  # number of elements (product of shape elements)"
   ]
  },
  {
   "cell_type": "code",
   "execution_count": 8,
   "metadata": {},
   "outputs": [
    {
     "data": {
      "text/plain": [
       "dtype('float64')"
      ]
     },
     "execution_count": 8,
     "metadata": {},
     "output_type": "execute_result"
    }
   ],
   "source": [
    "a.dtype  # all elements are the same type"
   ]
  },
  {
   "cell_type": "code",
   "execution_count": 9,
   "metadata": {},
   "outputs": [
    {
     "data": {
      "text/plain": [
       "8"
      ]
     },
     "execution_count": 9,
     "metadata": {},
     "output_type": "execute_result"
    }
   ],
   "source": [
    "a.itemsize  # element size in bytes"
   ]
  },
  {
   "cell_type": "code",
   "execution_count": 10,
   "metadata": {},
   "outputs": [
    {
     "data": {
      "text/plain": [
       "<memory at 0x1052addc8>"
      ]
     },
     "execution_count": 10,
     "metadata": {},
     "output_type": "execute_result"
    }
   ],
   "source": [
    "a.data  # memory buffer"
   ]
  },
  {
   "cell_type": "markdown",
   "metadata": {},
   "source": [
    "***Example 1***"
   ]
  },
  {
   "cell_type": "code",
   "execution_count": 12,
   "metadata": {
    "collapsed": true
   },
   "outputs": [],
   "source": [
    "a = np.arange(15).reshape(3, 5)"
   ]
  },
  {
   "cell_type": "code",
   "execution_count": 13,
   "metadata": {},
   "outputs": [
    {
     "data": {
      "text/plain": [
       "array([[ 0,  1,  2,  3,  4],\n",
       "       [ 5,  6,  7,  8,  9],\n",
       "       [10, 11, 12, 13, 14]])"
      ]
     },
     "execution_count": 13,
     "metadata": {},
     "output_type": "execute_result"
    }
   ],
   "source": [
    "a"
   ]
  },
  {
   "cell_type": "code",
   "execution_count": 14,
   "metadata": {},
   "outputs": [
    {
     "data": {
      "text/plain": [
       "(3, 5)"
      ]
     },
     "execution_count": 14,
     "metadata": {},
     "output_type": "execute_result"
    }
   ],
   "source": [
    "a.shape"
   ]
  },
  {
   "cell_type": "code",
   "execution_count": 15,
   "metadata": {},
   "outputs": [
    {
     "data": {
      "text/plain": [
       "numpy.ndarray"
      ]
     },
     "execution_count": 15,
     "metadata": {},
     "output_type": "execute_result"
    }
   ],
   "source": [
    "type(a)"
   ]
  },
  {
   "cell_type": "code",
   "execution_count": 18,
   "metadata": {},
   "outputs": [
    {
     "data": {
      "text/plain": [
       "dtype('int64')"
      ]
     },
     "execution_count": 18,
     "metadata": {},
     "output_type": "execute_result"
    }
   ],
   "source": [
    "a.dtype"
   ]
  },
  {
   "cell_type": "code",
   "execution_count": 19,
   "metadata": {},
   "outputs": [
    {
     "data": {
      "text/plain": [
       "8"
      ]
     },
     "execution_count": 19,
     "metadata": {},
     "output_type": "execute_result"
    }
   ],
   "source": [
    "a.itemsize"
   ]
  },
  {
   "cell_type": "markdown",
   "metadata": {},
   "source": [
    "***Example 2***"
   ]
  },
  {
   "cell_type": "code",
   "execution_count": 171,
   "metadata": {
    "collapsed": true
   },
   "outputs": [],
   "source": [
    "t = np.array([[[[1],[2]],[[3],[4]],[[5],[6]]],[[[7],[8]],\\\n",
    "    [[9],[10]],[[11],[12]]],[[[13],[14]],[[15],[16]],[[17],[17]]]])"
   ]
  },
  {
   "cell_type": "code",
   "execution_count": 173,
   "metadata": {},
   "outputs": [
    {
     "data": {
      "text/plain": [
       "(3, 3, 2, 1)"
      ]
     },
     "execution_count": 173,
     "metadata": {},
     "output_type": "execute_result"
    }
   ],
   "source": [
    "t.shape"
   ]
  },
  {
   "cell_type": "code",
   "execution_count": 174,
   "metadata": {},
   "outputs": [
    {
     "data": {
      "text/plain": [
       "array([[[[ 1],\n",
       "         [ 2]],\n",
       "\n",
       "        [[ 3],\n",
       "         [ 4]],\n",
       "\n",
       "        [[ 5],\n",
       "         [ 6]]],\n",
       "\n",
       "\n",
       "       [[[ 7],\n",
       "         [ 8]],\n",
       "\n",
       "        [[ 9],\n",
       "         [10]],\n",
       "\n",
       "        [[11],\n",
       "         [12]]],\n",
       "\n",
       "\n",
       "       [[[13],\n",
       "         [14]],\n",
       "\n",
       "        [[15],\n",
       "         [16]],\n",
       "\n",
       "        [[17],\n",
       "         [17]]]])"
      ]
     },
     "execution_count": 174,
     "metadata": {},
     "output_type": "execute_result"
    }
   ],
   "source": [
    "t"
   ]
  },
  {
   "cell_type": "markdown",
   "metadata": {},
   "source": [
    "## Creation"
   ]
  },
  {
   "cell_type": "markdown",
   "metadata": {},
   "source": [
    "**`np.array()`**\n",
    "\n",
    "`array` transforms a single sequence into a 1D array, a sequence of sequences into a 2D array, a sequence of sequences of sequences into 3D arrays, etc."
   ]
  },
  {
   "cell_type": "code",
   "execution_count": 20,
   "metadata": {
    "collapsed": true
   },
   "outputs": [],
   "source": [
    "c = np.array([5, 6, 7])"
   ]
  },
  {
   "cell_type": "code",
   "execution_count": 21,
   "metadata": {},
   "outputs": [
    {
     "data": {
      "text/plain": [
       "(3,)"
      ]
     },
     "execution_count": 21,
     "metadata": {},
     "output_type": "execute_result"
    }
   ],
   "source": [
    "c.shape  # A 1-dimensional arrays always shows the number of elements in first position"
   ]
  },
  {
   "cell_type": "code",
   "execution_count": 22,
   "metadata": {},
   "outputs": [
    {
     "data": {
      "text/plain": [
       "array([5, 6, 7])"
      ]
     },
     "execution_count": 22,
     "metadata": {},
     "output_type": "execute_result"
    }
   ],
   "source": [
    "c"
   ]
  },
  {
   "cell_type": "code",
   "execution_count": 33,
   "metadata": {
    "collapsed": true
   },
   "outputs": [],
   "source": [
    "d = np.array([(1.3, 4.5, 6), (3, 0, 9)])"
   ]
  },
  {
   "cell_type": "code",
   "execution_count": 34,
   "metadata": {},
   "outputs": [
    {
     "data": {
      "text/plain": [
       "array([[ 1.3,  4.5,  6. ],\n",
       "       [ 3. ,  0. ,  9. ]])"
      ]
     },
     "execution_count": 34,
     "metadata": {},
     "output_type": "execute_result"
    }
   ],
   "source": [
    "d"
   ]
  },
  {
   "cell_type": "code",
   "execution_count": 35,
   "metadata": {},
   "outputs": [
    {
     "data": {
      "text/plain": [
       "(2, 3)"
      ]
     },
     "execution_count": 35,
     "metadata": {},
     "output_type": "execute_result"
    }
   ],
   "source": [
    "d.shape"
   ]
  },
  {
   "cell_type": "code",
   "execution_count": 36,
   "metadata": {
    "collapsed": true
   },
   "outputs": [],
   "source": [
    "e = np.array([[1,2],[4,5]], dtype=complex)  # Specify element type explicitly"
   ]
  },
  {
   "cell_type": "code",
   "execution_count": 37,
   "metadata": {},
   "outputs": [
    {
     "data": {
      "text/plain": [
       "array([[ 1.+0.j,  2.+0.j],\n",
       "       [ 4.+0.j,  5.+0.j]])"
      ]
     },
     "execution_count": 37,
     "metadata": {},
     "output_type": "execute_result"
    }
   ],
   "source": [
    "e"
   ]
  },
  {
   "cell_type": "markdown",
   "metadata": {},
   "source": [
    "**`np.zeros`, `np.ones`, `np.empty`**\n",
    "\n",
    "Placeholder elements. `zeros`, `ones`, and `empty` all take a tuple argument for shape. Element type can be specified with `dtype=`."
   ]
  },
  {
   "cell_type": "code",
   "execution_count": 38,
   "metadata": {
    "collapsed": true
   },
   "outputs": [],
   "source": [
    "z = np.zeros( (5, 6) )"
   ]
  },
  {
   "cell_type": "code",
   "execution_count": 39,
   "metadata": {},
   "outputs": [
    {
     "data": {
      "text/plain": [
       "array([[ 0.,  0.,  0.,  0.,  0.,  0.],\n",
       "       [ 0.,  0.,  0.,  0.,  0.,  0.],\n",
       "       [ 0.,  0.,  0.,  0.,  0.,  0.],\n",
       "       [ 0.,  0.,  0.,  0.,  0.,  0.],\n",
       "       [ 0.,  0.,  0.,  0.,  0.,  0.]])"
      ]
     },
     "execution_count": 39,
     "metadata": {},
     "output_type": "execute_result"
    }
   ],
   "source": [
    "z"
   ]
  },
  {
   "cell_type": "code",
   "execution_count": 41,
   "metadata": {},
   "outputs": [],
   "source": [
    "y = np.ones( (2, 4), dtype=np.float64)"
   ]
  },
  {
   "cell_type": "code",
   "execution_count": 42,
   "metadata": {},
   "outputs": [
    {
     "data": {
      "text/plain": [
       "array([[ 1.,  1.,  1.,  1.],\n",
       "       [ 1.,  1.,  1.,  1.]])"
      ]
     },
     "execution_count": 42,
     "metadata": {},
     "output_type": "execute_result"
    }
   ],
   "source": [
    "y"
   ]
  },
  {
   "cell_type": "code",
   "execution_count": 43,
   "metadata": {
    "collapsed": true
   },
   "outputs": [],
   "source": [
    "xx = np.empty( (7, 8) )"
   ]
  },
  {
   "cell_type": "code",
   "execution_count": 44,
   "metadata": {},
   "outputs": [
    {
     "data": {
      "text/plain": [
       "array([[ -3.10503618e+231,  -3.10503618e+231,   2.13051151e-314,\n",
       "          1.48219694e-323,   6.86294615e+302,   2.13354440e-314,\n",
       "          2.14744528e-314,   1.51988454e+001],\n",
       "       [  0.00000000e+000,   0.00000000e+000,   0.00000000e+000,\n",
       "          0.00000000e+000,   0.00000000e+000,   0.00000000e+000,\n",
       "          0.00000000e+000,   0.00000000e+000],\n",
       "       [  0.00000000e+000,   0.00000000e+000,   0.00000000e+000,\n",
       "         -8.33010741e-253,   2.13354430e-314,   2.13134418e-314,\n",
       "          1.65154049e+109,   2.13354433e-314],\n",
       "       [  2.13134420e-314,  -2.63484523e-137,   2.13354181e-314,\n",
       "          2.13139412e-314,   2.16726225e-314,   0.00000000e+000,\n",
       "          0.00000000e+000,  -4.16398299e+147],\n",
       "       [  2.13354443e-314,   2.13134418e-314,   7.20319084e-171,\n",
       "          2.13354437e-314,   2.13134418e-314,   4.02852366e-186,\n",
       "          2.13354427e-314,   2.13134418e-314],\n",
       "       [ -4.66095077e+273,   2.13264889e-314,   2.14947569e-314,\n",
       "          2.16655285e-314,   0.00000000e+000,   0.00000000e+000,\n",
       "          2.16580039e-314,   0.00000000e+000],\n",
       "       [  0.00000000e+000,  -5.83400946e-095,   0.00000000e+000,\n",
       "          0.00000000e+000,  -3.10503618e+231,  -2.00390200e+000,\n",
       "          4.94065646e-323,   0.00000000e+000]])"
      ]
     },
     "execution_count": 44,
     "metadata": {},
     "output_type": "execute_result"
    }
   ],
   "source": [
    "xx"
   ]
  },
  {
   "cell_type": "markdown",
   "metadata": {},
   "source": [
    "**`arange`, `linspace`**\n",
    "\n",
    "Sequences of numbers, like Python `range`."
   ]
  },
  {
   "cell_type": "code",
   "execution_count": 45,
   "metadata": {
    "collapsed": true
   },
   "outputs": [],
   "source": [
    "n = np.arange(3, 13, 5)"
   ]
  },
  {
   "cell_type": "code",
   "execution_count": 46,
   "metadata": {},
   "outputs": [
    {
     "data": {
      "text/plain": [
       "array([3, 8])"
      ]
     },
     "execution_count": 46,
     "metadata": {},
     "output_type": "execute_result"
    }
   ],
   "source": [
    "n"
   ]
  },
  {
   "cell_type": "code",
   "execution_count": 50,
   "metadata": {},
   "outputs": [],
   "source": [
    "m = np.arange(2, 13, .2).reshape(5, 11)  # Accepts floating point elements, but unpredictable number of elements"
   ]
  },
  {
   "cell_type": "code",
   "execution_count": 51,
   "metadata": {},
   "outputs": [
    {
     "data": {
      "text/plain": [
       "array([[  2. ,   2.2,   2.4,   2.6,   2.8,   3. ,   3.2,   3.4,   3.6,\n",
       "          3.8,   4. ],\n",
       "       [  4.2,   4.4,   4.6,   4.8,   5. ,   5.2,   5.4,   5.6,   5.8,\n",
       "          6. ,   6.2],\n",
       "       [  6.4,   6.6,   6.8,   7. ,   7.2,   7.4,   7.6,   7.8,   8. ,\n",
       "          8.2,   8.4],\n",
       "       [  8.6,   8.8,   9. ,   9.2,   9.4,   9.6,   9.8,  10. ,  10.2,\n",
       "         10.4,  10.6],\n",
       "       [ 10.8,  11. ,  11.2,  11.4,  11.6,  11.8,  12. ,  12.2,  12.4,\n",
       "         12.6,  12.8]])"
      ]
     },
     "execution_count": 51,
     "metadata": {},
     "output_type": "execute_result"
    }
   ],
   "source": [
    "m"
   ]
  },
  {
   "cell_type": "code",
   "execution_count": 52,
   "metadata": {
    "collapsed": true
   },
   "outputs": [],
   "source": [
    "p = np.linspace(2, 13, 55)  # Third argument is number of elements, instead of a step (better for floats)"
   ]
  },
  {
   "cell_type": "code",
   "execution_count": 53,
   "metadata": {},
   "outputs": [
    {
     "data": {
      "text/plain": [
       "array([  2.        ,   2.2037037 ,   2.40740741,   2.61111111,\n",
       "         2.81481481,   3.01851852,   3.22222222,   3.42592593,\n",
       "         3.62962963,   3.83333333,   4.03703704,   4.24074074,\n",
       "         4.44444444,   4.64814815,   4.85185185,   5.05555556,\n",
       "         5.25925926,   5.46296296,   5.66666667,   5.87037037,\n",
       "         6.07407407,   6.27777778,   6.48148148,   6.68518519,\n",
       "         6.88888889,   7.09259259,   7.2962963 ,   7.5       ,\n",
       "         7.7037037 ,   7.90740741,   8.11111111,   8.31481481,\n",
       "         8.51851852,   8.72222222,   8.92592593,   9.12962963,\n",
       "         9.33333333,   9.53703704,   9.74074074,   9.94444444,\n",
       "        10.14814815,  10.35185185,  10.55555556,  10.75925926,\n",
       "        10.96296296,  11.16666667,  11.37037037,  11.57407407,\n",
       "        11.77777778,  11.98148148,  12.18518519,  12.38888889,\n",
       "        12.59259259,  12.7962963 ,  13.        ])"
      ]
     },
     "execution_count": 53,
     "metadata": {},
     "output_type": "execute_result"
    }
   ],
   "source": [
    "p"
   ]
  },
  {
   "cell_type": "code",
   "execution_count": 54,
   "metadata": {
    "collapsed": true
   },
   "outputs": [],
   "source": [
    "p = p.reshape(5, 11)"
   ]
  },
  {
   "cell_type": "code",
   "execution_count": 55,
   "metadata": {},
   "outputs": [
    {
     "data": {
      "text/plain": [
       "array([[  2.        ,   2.2037037 ,   2.40740741,   2.61111111,\n",
       "          2.81481481,   3.01851852,   3.22222222,   3.42592593,\n",
       "          3.62962963,   3.83333333,   4.03703704],\n",
       "       [  4.24074074,   4.44444444,   4.64814815,   4.85185185,\n",
       "          5.05555556,   5.25925926,   5.46296296,   5.66666667,\n",
       "          5.87037037,   6.07407407,   6.27777778],\n",
       "       [  6.48148148,   6.68518519,   6.88888889,   7.09259259,\n",
       "          7.2962963 ,   7.5       ,   7.7037037 ,   7.90740741,\n",
       "          8.11111111,   8.31481481,   8.51851852],\n",
       "       [  8.72222222,   8.92592593,   9.12962963,   9.33333333,\n",
       "          9.53703704,   9.74074074,   9.94444444,  10.14814815,\n",
       "         10.35185185,  10.55555556,  10.75925926],\n",
       "       [ 10.96296296,  11.16666667,  11.37037037,  11.57407407,\n",
       "         11.77777778,  11.98148148,  12.18518519,  12.38888889,\n",
       "         12.59259259,  12.7962963 ,  13.        ]])"
      ]
     },
     "execution_count": 55,
     "metadata": {},
     "output_type": "execute_result"
    }
   ],
   "source": [
    "p"
   ]
  },
  {
   "cell_type": "code",
   "execution_count": 56,
   "metadata": {
    "collapsed": true
   },
   "outputs": [],
   "source": [
    "q = np.linspace(0, 2*np.pi, 100)"
   ]
  },
  {
   "cell_type": "code",
   "execution_count": 57,
   "metadata": {
    "collapsed": true
   },
   "outputs": [],
   "source": [
    "f = np.sin(q)"
   ]
  },
  {
   "cell_type": "code",
   "execution_count": 58,
   "metadata": {},
   "outputs": [
    {
     "data": {
      "text/plain": [
       "array([  0.00000000e+00,   6.34239197e-02,   1.26592454e-01,\n",
       "         1.89251244e-01,   2.51147987e-01,   3.12033446e-01,\n",
       "         3.71662456e-01,   4.29794912e-01,   4.86196736e-01,\n",
       "         5.40640817e-01,   5.92907929e-01,   6.42787610e-01,\n",
       "         6.90079011e-01,   7.34591709e-01,   7.76146464e-01,\n",
       "         8.14575952e-01,   8.49725430e-01,   8.81453363e-01,\n",
       "         9.09631995e-01,   9.34147860e-01,   9.54902241e-01,\n",
       "         9.71811568e-01,   9.84807753e-01,   9.93838464e-01,\n",
       "         9.98867339e-01,   9.99874128e-01,   9.96854776e-01,\n",
       "         9.89821442e-01,   9.78802446e-01,   9.63842159e-01,\n",
       "         9.45000819e-01,   9.22354294e-01,   8.95993774e-01,\n",
       "         8.66025404e-01,   8.32569855e-01,   7.95761841e-01,\n",
       "         7.55749574e-01,   7.12694171e-01,   6.66769001e-01,\n",
       "         6.18158986e-01,   5.67059864e-01,   5.13677392e-01,\n",
       "         4.58226522e-01,   4.00930535e-01,   3.42020143e-01,\n",
       "         2.81732557e-01,   2.20310533e-01,   1.58001396e-01,\n",
       "         9.50560433e-02,   3.17279335e-02,  -3.17279335e-02,\n",
       "        -9.50560433e-02,  -1.58001396e-01,  -2.20310533e-01,\n",
       "        -2.81732557e-01,  -3.42020143e-01,  -4.00930535e-01,\n",
       "        -4.58226522e-01,  -5.13677392e-01,  -5.67059864e-01,\n",
       "        -6.18158986e-01,  -6.66769001e-01,  -7.12694171e-01,\n",
       "        -7.55749574e-01,  -7.95761841e-01,  -8.32569855e-01,\n",
       "        -8.66025404e-01,  -8.95993774e-01,  -9.22354294e-01,\n",
       "        -9.45000819e-01,  -9.63842159e-01,  -9.78802446e-01,\n",
       "        -9.89821442e-01,  -9.96854776e-01,  -9.99874128e-01,\n",
       "        -9.98867339e-01,  -9.93838464e-01,  -9.84807753e-01,\n",
       "        -9.71811568e-01,  -9.54902241e-01,  -9.34147860e-01,\n",
       "        -9.09631995e-01,  -8.81453363e-01,  -8.49725430e-01,\n",
       "        -8.14575952e-01,  -7.76146464e-01,  -7.34591709e-01,\n",
       "        -6.90079011e-01,  -6.42787610e-01,  -5.92907929e-01,\n",
       "        -5.40640817e-01,  -4.86196736e-01,  -4.29794912e-01,\n",
       "        -3.71662456e-01,  -3.12033446e-01,  -2.51147987e-01,\n",
       "        -1.89251244e-01,  -1.26592454e-01,  -6.34239197e-02,\n",
       "        -2.44929360e-16])"
      ]
     },
     "execution_count": 58,
     "metadata": {},
     "output_type": "execute_result"
    }
   ],
   "source": [
    "f"
   ]
  },
  {
   "cell_type": "markdown",
   "metadata": {},
   "source": [
    "## Printing\n",
    "\n",
    "Print of NumPy arrays:\n",
    "- The _**last** axis_ is printed _from left to right_.\n",
    "- The _second to last axis_ is printed _from top to bottom_.\n",
    "- The rest are also printed _from top to bottom, with slices separated by empty lines_."
   ]
  },
  {
   "cell_type": "code",
   "execution_count": 59,
   "metadata": {
    "collapsed": true
   },
   "outputs": [],
   "source": [
    "g = np.arange(9)  # This is the LAST axis"
   ]
  },
  {
   "cell_type": "code",
   "execution_count": 60,
   "metadata": {},
   "outputs": [
    {
     "data": {
      "text/plain": [
       "array([0, 1, 2, 3, 4, 5, 6, 7, 8])"
      ]
     },
     "execution_count": 60,
     "metadata": {},
     "output_type": "execute_result"
    }
   ],
   "source": [
    "g"
   ]
  },
  {
   "cell_type": "code",
   "execution_count": 61,
   "metadata": {
    "collapsed": true
   },
   "outputs": [],
   "source": [
    "g2 = np.arange(10).reshape(2, 5)"
   ]
  },
  {
   "cell_type": "code",
   "execution_count": 62,
   "metadata": {},
   "outputs": [
    {
     "data": {
      "text/plain": [
       "array([[0, 1, 2, 3, 4],\n",
       "       [5, 6, 7, 8, 9]])"
      ]
     },
     "execution_count": 62,
     "metadata": {},
     "output_type": "execute_result"
    }
   ],
   "source": [
    "g2"
   ]
  },
  {
   "cell_type": "code",
   "execution_count": 63,
   "metadata": {
    "collapsed": true
   },
   "outputs": [],
   "source": [
    "g3 = np.arange(45).reshape(3, 5, 3)"
   ]
  },
  {
   "cell_type": "code",
   "execution_count": 64,
   "metadata": {},
   "outputs": [
    {
     "data": {
      "text/plain": [
       "array([[[ 0,  1,  2],\n",
       "        [ 3,  4,  5],\n",
       "        [ 6,  7,  8],\n",
       "        [ 9, 10, 11],\n",
       "        [12, 13, 14]],\n",
       "\n",
       "       [[15, 16, 17],\n",
       "        [18, 19, 20],\n",
       "        [21, 22, 23],\n",
       "        [24, 25, 26],\n",
       "        [27, 28, 29]],\n",
       "\n",
       "       [[30, 31, 32],\n",
       "        [33, 34, 35],\n",
       "        [36, 37, 38],\n",
       "        [39, 40, 41],\n",
       "        [42, 43, 44]]])"
      ]
     },
     "execution_count": 64,
     "metadata": {},
     "output_type": "execute_result"
    }
   ],
   "source": [
    "g3"
   ]
  },
  {
   "cell_type": "code",
   "execution_count": 65,
   "metadata": {
    "collapsed": true
   },
   "outputs": [],
   "source": [
    "gbig = np.arange(10000).reshape(100,100)"
   ]
  },
  {
   "cell_type": "code",
   "execution_count": 66,
   "metadata": {},
   "outputs": [
    {
     "data": {
      "text/plain": [
       "array([[   0,    1,    2, ...,   97,   98,   99],\n",
       "       [ 100,  101,  102, ...,  197,  198,  199],\n",
       "       [ 200,  201,  202, ...,  297,  298,  299],\n",
       "       ..., \n",
       "       [9700, 9701, 9702, ..., 9797, 9798, 9799],\n",
       "       [9800, 9801, 9802, ..., 9897, 9898, 9899],\n",
       "       [9900, 9901, 9902, ..., 9997, 9998, 9999]])"
      ]
     },
     "execution_count": 66,
     "metadata": {},
     "output_type": "execute_result"
    }
   ],
   "source": [
    "gbig"
   ]
  },
  {
   "cell_type": "markdown",
   "metadata": {},
   "source": [
    "When the array is big, to print the whole array instead of corners only, use `np.set_printoptions(threshold='nan'`)."
   ]
  },
  {
   "cell_type": "markdown",
   "metadata": {},
   "source": [
    "## Basic Operations\n",
    "\n",
    "Basic operations are _elementwise_."
   ]
  },
  {
   "cell_type": "code",
   "execution_count": 67,
   "metadata": {
    "collapsed": true
   },
   "outputs": [],
   "source": [
    "a0 = np.array([10, 20, 30, 40])"
   ]
  },
  {
   "cell_type": "code",
   "execution_count": 69,
   "metadata": {
    "collapsed": true
   },
   "outputs": [],
   "source": [
    "a1 = np.arange(4)"
   ]
  },
  {
   "cell_type": "code",
   "execution_count": 70,
   "metadata": {},
   "outputs": [],
   "source": [
    "aminus = a0-a1"
   ]
  },
  {
   "cell_type": "code",
   "execution_count": 71,
   "metadata": {
    "collapsed": true
   },
   "outputs": [],
   "source": [
    "apow = a1**7"
   ]
  },
  {
   "cell_type": "code",
   "execution_count": 72,
   "metadata": {},
   "outputs": [
    {
     "data": {
      "text/plain": [
       "array([   0,    1,  128, 2187])"
      ]
     },
     "execution_count": 72,
     "metadata": {},
     "output_type": "execute_result"
    }
   ],
   "source": [
    "apow"
   ]
  },
  {
   "cell_type": "code",
   "execution_count": 73,
   "metadata": {},
   "outputs": [
    {
     "data": {
      "text/plain": [
       "array([[ 0.        ,  8.41470985,  9.09297427,  1.41120008, -7.56802495],\n",
       "       [-9.58924275, -2.79415498,  6.56986599,  9.89358247,  4.12118485],\n",
       "       [-5.44021111, -9.99990207, -5.36572918,  4.20167037,  9.90607356]])"
      ]
     },
     "execution_count": 73,
     "metadata": {},
     "output_type": "execute_result"
    }
   ],
   "source": [
    "10 * np.sin(a) "
   ]
  },
  {
   "cell_type": "code",
   "execution_count": 74,
   "metadata": {},
   "outputs": [
    {
     "data": {
      "text/plain": [
       "array([False,  True,  True,  True], dtype=bool)"
      ]
     },
     "execution_count": 74,
     "metadata": {},
     "output_type": "execute_result"
    }
   ],
   "source": [
    "a0 > 19"
   ]
  },
  {
   "cell_type": "markdown",
   "metadata": {},
   "source": [
    "**Operator `*` vs `np.dot()`**\n",
    "\n",
    "Operator `*` in NumPy is _elementwise_ multiplication. Matrix multiplication is performed with `np.dot()`."
   ]
  },
  {
   "cell_type": "code",
   "execution_count": 75,
   "metadata": {},
   "outputs": [
    {
     "data": {
      "text/plain": [
       "array([  0,  20,  60, 120])"
      ]
     },
     "execution_count": 75,
     "metadata": {},
     "output_type": "execute_result"
    }
   ],
   "source": [
    "a0 * a1"
   ]
  },
  {
   "cell_type": "code",
   "execution_count": 78,
   "metadata": {},
   "outputs": [],
   "source": [
    "a0t = a0[:,None]"
   ]
  },
  {
   "cell_type": "code",
   "execution_count": 79,
   "metadata": {},
   "outputs": [
    {
     "data": {
      "text/plain": [
       "array([[10],\n",
       "       [20],\n",
       "       [30],\n",
       "       [40]])"
      ]
     },
     "execution_count": 79,
     "metadata": {},
     "output_type": "execute_result"
    }
   ],
   "source": [
    "a0t"
   ]
  },
  {
   "cell_type": "code",
   "execution_count": 81,
   "metadata": {},
   "outputs": [],
   "source": [
    "adota = a0.dot(a0t)"
   ]
  },
  {
   "cell_type": "code",
   "execution_count": 82,
   "metadata": {},
   "outputs": [
    {
     "data": {
      "text/plain": [
       "array([3000])"
      ]
     },
     "execution_count": 82,
     "metadata": {},
     "output_type": "execute_result"
    }
   ],
   "source": [
    "adota"
   ]
  },
  {
   "cell_type": "code",
   "execution_count": 83,
   "metadata": {},
   "outputs": [
    {
     "data": {
      "text/plain": [
       "(1,)"
      ]
     },
     "execution_count": 83,
     "metadata": {},
     "output_type": "execute_result"
    }
   ],
   "source": [
    "adota.shape  # Note: This is a (1,) array, not a scalar"
   ]
  },
  {
   "cell_type": "code",
   "execution_count": 94,
   "metadata": {},
   "outputs": [
    {
     "data": {
      "text/plain": [
       "3000"
      ]
     },
     "execution_count": 94,
     "metadata": {},
     "output_type": "execute_result"
    }
   ],
   "source": [
    "a0.dot(a0)  # This IS a scalar!!!"
   ]
  },
  {
   "cell_type": "code",
   "execution_count": 170,
   "metadata": {},
   "outputs": [
    {
     "data": {
      "text/plain": [
       "()"
      ]
     },
     "execution_count": 170,
     "metadata": {},
     "output_type": "execute_result"
    }
   ],
   "source": [
    "a0.dot(a0).shape  # A scalar has no/empty/zero dimensions"
   ]
  },
  {
   "cell_type": "markdown",
   "metadata": {},
   "source": [
    "**`np.dot(a, b)`**\n",
    "\n",
    "The dot product is:\n",
    "- The _inner product_ of vectors (1D arrays)\n",
    "- The _matrix product_ for 2D matrices\n",
    "- The _sum product of the **last** axis of **a** and the **second-to-last** axis of **b**_ (which is a generalization of the 2D case\n",
    "\n",
    "```python\n",
    "dot(a, b)[i,j,k,m] = sum(a[i,j,:] * b[k,:,m])\n",
    "```\n",
    "\n",
    "Documentation [link](https://docs.scipy.org/doc/numpy-dev/reference/generated/numpy.dot.html#numpy.dot)."
   ]
  },
  {
   "cell_type": "code",
   "execution_count": 96,
   "metadata": {},
   "outputs": [
    {
     "ename": "ValueError",
     "evalue": "shapes (4,1) and (4,) not aligned: 1 (dim 1) != 4 (dim 0)",
     "output_type": "error",
     "traceback": [
      "\u001b[0;31m---------------------------------------------------------------------------\u001b[0m",
      "\u001b[0;31mValueError\u001b[0m                                Traceback (most recent call last)",
      "\u001b[0;32m<ipython-input-96-bdb21d50c84a>\u001b[0m in \u001b[0;36m<module>\u001b[0;34m()\u001b[0m\n\u001b[0;32m----> 1\u001b[0;31m \u001b[0ma0t\u001b[0m\u001b[0;34m.\u001b[0m\u001b[0mdot\u001b[0m\u001b[0;34m(\u001b[0m\u001b[0ma0\u001b[0m\u001b[0;34m)\u001b[0m  \u001b[0;31m# Now the ValueError message below makes sense\u001b[0m\u001b[0;34m\u001b[0m\u001b[0m\n\u001b[0m",
      "\u001b[0;31mValueError\u001b[0m: shapes (4,1) and (4,) not aligned: 1 (dim 1) != 4 (dim 0)"
     ]
    }
   ],
   "source": [
    "a0t.dot(a0)  # Now the ValueError message below makes sense"
   ]
  },
  {
   "cell_type": "code",
   "execution_count": 85,
   "metadata": {},
   "outputs": [
    {
     "data": {
      "text/plain": [
       "(4,)"
      ]
     },
     "execution_count": 85,
     "metadata": {},
     "output_type": "execute_result"
    }
   ],
   "source": [
    "a0.shape"
   ]
  },
  {
   "cell_type": "code",
   "execution_count": 86,
   "metadata": {},
   "outputs": [
    {
     "data": {
      "text/plain": [
       "(4, 1)"
      ]
     },
     "execution_count": 86,
     "metadata": {},
     "output_type": "execute_result"
    }
   ],
   "source": [
    "a0t.shape"
   ]
  },
  {
   "cell_type": "code",
   "execution_count": 90,
   "metadata": {},
   "outputs": [
    {
     "data": {
      "text/plain": [
       "(array([10, 20, 30, 40]), array([[10],\n",
       "        [20],\n",
       "        [30],\n",
       "        [40]]))"
      ]
     },
     "execution_count": 90,
     "metadata": {},
     "output_type": "execute_result"
    }
   ],
   "source": [
    "a0, a0t"
   ]
  },
  {
   "cell_type": "code",
   "execution_count": 91,
   "metadata": {},
   "outputs": [],
   "source": [
    "ata = a0*a0t  # Elementwise!"
   ]
  },
  {
   "cell_type": "code",
   "execution_count": 92,
   "metadata": {},
   "outputs": [
    {
     "data": {
      "text/plain": [
       "array([[ 100,  200,  300,  400],\n",
       "       [ 200,  400,  600,  800],\n",
       "       [ 300,  600,  900, 1200],\n",
       "       [ 400,  800, 1200, 1600]])"
      ]
     },
     "execution_count": 92,
     "metadata": {},
     "output_type": "execute_result"
    }
   ],
   "source": [
    "ata  # A (4,) array multiplied elementwise with a (4, 1) array for a (4, 4) array"
   ]
  },
  {
   "cell_type": "code",
   "execution_count": 93,
   "metadata": {},
   "outputs": [
    {
     "data": {
      "text/plain": [
       "(4, 4)"
      ]
     },
     "execution_count": 93,
     "metadata": {},
     "output_type": "execute_result"
    }
   ],
   "source": [
    "ata.shape"
   ]
  },
  {
   "cell_type": "code",
   "execution_count": 88,
   "metadata": {},
   "outputs": [
    {
     "data": {
      "text/plain": [
       "array([[ 100,  200,  300,  400],\n",
       "       [ 200,  400,  600,  800],\n",
       "       [ 300,  600,  900, 1200],\n",
       "       [ 400,  800, 1200, 1600]])"
      ]
     },
     "execution_count": 88,
     "metadata": {},
     "output_type": "execute_result"
    }
   ],
   "source": [
    "a0t*a0  # Order doesn't matter for elementwise multiplication!"
   ]
  },
  {
   "cell_type": "code",
   "execution_count": 97,
   "metadata": {
    "collapsed": true
   },
   "outputs": [],
   "source": [
    "A = np.array([[5., 6.], [4., 0.]])\n",
    "B = np.eye(2)"
   ]
  },
  {
   "cell_type": "code",
   "execution_count": 98,
   "metadata": {},
   "outputs": [
    {
     "data": {
      "text/plain": [
       "array([[ 5.,  0.],\n",
       "       [ 0.,  0.]])"
      ]
     },
     "execution_count": 98,
     "metadata": {},
     "output_type": "execute_result"
    }
   ],
   "source": [
    "A * B  # Elementwise"
   ]
  },
  {
   "cell_type": "code",
   "execution_count": 99,
   "metadata": {},
   "outputs": [
    {
     "data": {
      "text/plain": [
       "array([[ 5.,  6.],\n",
       "       [ 4.,  0.]])"
      ]
     },
     "execution_count": 99,
     "metadata": {},
     "output_type": "execute_result"
    }
   ],
   "source": [
    "A.dot(B)"
   ]
  },
  {
   "cell_type": "code",
   "execution_count": 100,
   "metadata": {},
   "outputs": [
    {
     "data": {
      "text/plain": [
       "array([[ 5.,  6.],\n",
       "       [ 4.,  0.]])"
      ]
     },
     "execution_count": 100,
     "metadata": {},
     "output_type": "execute_result"
    }
   ],
   "source": [
    "B.dot(A)"
   ]
  },
  {
   "cell_type": "code",
   "execution_count": 101,
   "metadata": {
    "collapsed": true
   },
   "outputs": [],
   "source": [
    "C = np.arange(6).reshape(2, 3)"
   ]
  },
  {
   "cell_type": "code",
   "execution_count": 102,
   "metadata": {},
   "outputs": [
    {
     "data": {
      "text/plain": [
       "array([[0, 1, 2],\n",
       "       [3, 4, 5]])"
      ]
     },
     "execution_count": 102,
     "metadata": {},
     "output_type": "execute_result"
    }
   ],
   "source": [
    "C"
   ]
  },
  {
   "cell_type": "code",
   "execution_count": 103,
   "metadata": {},
   "outputs": [
    {
     "ename": "ValueError",
     "evalue": "shapes (2,3) and (2,2) not aligned: 3 (dim 1) != 2 (dim 0)",
     "output_type": "error",
     "traceback": [
      "\u001b[0;31m---------------------------------------------------------------------------\u001b[0m",
      "\u001b[0;31mValueError\u001b[0m                                Traceback (most recent call last)",
      "\u001b[0;32m<ipython-input-103-598af40f327f>\u001b[0m in \u001b[0;36m<module>\u001b[0;34m()\u001b[0m\n\u001b[0;32m----> 1\u001b[0;31m \u001b[0mC\u001b[0m\u001b[0;34m.\u001b[0m\u001b[0mdot\u001b[0m\u001b[0;34m(\u001b[0m\u001b[0mB\u001b[0m\u001b[0;34m)\u001b[0m\u001b[0;34m\u001b[0m\u001b[0m\n\u001b[0m",
      "\u001b[0;31mValueError\u001b[0m: shapes (2,3) and (2,2) not aligned: 3 (dim 1) != 2 (dim 0)"
     ]
    }
   ],
   "source": [
    "C.dot(B)  # This won't work"
   ]
  },
  {
   "cell_type": "code",
   "execution_count": 104,
   "metadata": {},
   "outputs": [
    {
     "data": {
      "text/plain": [
       "array([[0, 3],\n",
       "       [1, 4],\n",
       "       [2, 5]])"
      ]
     },
     "execution_count": 104,
     "metadata": {},
     "output_type": "execute_result"
    }
   ],
   "source": [
    "C.T  # Transpose C"
   ]
  },
  {
   "cell_type": "code",
   "execution_count": 105,
   "metadata": {},
   "outputs": [
    {
     "data": {
      "text/plain": [
       "array([[ 0.,  3.],\n",
       "       [ 1.,  4.],\n",
       "       [ 2.,  5.]])"
      ]
     },
     "execution_count": 105,
     "metadata": {},
     "output_type": "execute_result"
    }
   ],
   "source": [
    "C.T.dot(B)"
   ]
  },
  {
   "cell_type": "code",
   "execution_count": 106,
   "metadata": {},
   "outputs": [
    {
     "data": {
      "text/plain": [
       "array([[ 0.,  1.,  2.],\n",
       "       [ 3.,  4.,  5.]])"
      ]
     },
     "execution_count": 106,
     "metadata": {},
     "output_type": "execute_result"
    }
   ],
   "source": [
    "B.dot(C)  # This should work (Note: This is only equal the transpose of above because B is an identity matrix!)"
   ]
  },
  {
   "cell_type": "code",
   "execution_count": 107,
   "metadata": {},
   "outputs": [
    {
     "data": {
      "text/plain": [
       "array([[ True,  True],\n",
       "       [ True,  True]], dtype=bool)"
      ]
     },
     "execution_count": 107,
     "metadata": {},
     "output_type": "execute_result"
    }
   ],
   "source": [
    "B == np.eye(2)"
   ]
  },
  {
   "cell_type": "code",
   "execution_count": 110,
   "metadata": {},
   "outputs": [
    {
     "data": {
      "text/plain": [
       "array([[False, False, False],\n",
       "       [ True, False, False]], dtype=bool)"
      ]
     },
     "execution_count": 110,
     "metadata": {},
     "output_type": "execute_result"
    }
   ],
   "source": [
    "A.dot(C) == C.T.dot(A).T  # In general A•B ≠ B•A, nor A•B ≠ (B^•A)^ (where B^ is the transpose of B, etc.)"
   ]
  },
  {
   "cell_type": "markdown",
   "metadata": {},
   "source": [
    "**`np.dot()` vs `np.matmul()`**\n",
    "\n",
    "`np.dot()` and `np.matmul()` are equivalent for 1D and 2D arrays, but **differ** for higher-dimensional arrays. \n",
    "\n",
    "`matmul` differs from `dot` in two important ways:\n",
    "\n",
    "- Multiplication by scalars is not allowed.\n",
    "- Stacks of matrices are broadcast together as if the matrices were elements.\n",
    "\n",
    "\n",
    "Documentation [link](https://docs.scipy.org/doc/numpy-dev/reference/generated/numpy.matmul.html). On [SO](https://stackoverflow.com/a/34142617/6562147)."
   ]
  },
  {
   "cell_type": "code",
   "execution_count": 238,
   "metadata": {
    "collapsed": true
   },
   "outputs": [],
   "source": [
    "by0 = np.arange(4).reshape(2, 2)"
   ]
  },
  {
   "cell_type": "code",
   "execution_count": 239,
   "metadata": {},
   "outputs": [
    {
     "data": {
      "text/plain": [
       "array([[0, 1],\n",
       "       [2, 3]])"
      ]
     },
     "execution_count": 239,
     "metadata": {},
     "output_type": "execute_result"
    }
   ],
   "source": [
    "by0"
   ]
  },
  {
   "cell_type": "code",
   "execution_count": 240,
   "metadata": {
    "collapsed": true
   },
   "outputs": [],
   "source": [
    "by1 = np.arange(4).reshape(2, 2)*5"
   ]
  },
  {
   "cell_type": "code",
   "execution_count": 241,
   "metadata": {},
   "outputs": [
    {
     "data": {
      "text/plain": [
       "array([[ 0,  5],\n",
       "       [10, 15]])"
      ]
     },
     "execution_count": 241,
     "metadata": {},
     "output_type": "execute_result"
    }
   ],
   "source": [
    "by1"
   ]
  },
  {
   "cell_type": "code",
   "execution_count": 242,
   "metadata": {},
   "outputs": [
    {
     "data": {
      "text/plain": [
       "array([[10, 15],\n",
       "       [30, 55]])"
      ]
     },
     "execution_count": 242,
     "metadata": {},
     "output_type": "execute_result"
    }
   ],
   "source": [
    "by0.dot(by1)"
   ]
  },
  {
   "cell_type": "code",
   "execution_count": 243,
   "metadata": {},
   "outputs": [
    {
     "data": {
      "text/plain": [
       "array([[10, 15],\n",
       "       [30, 55]])"
      ]
     },
     "execution_count": 243,
     "metadata": {},
     "output_type": "execute_result"
    }
   ],
   "source": [
    "np.matmul(by0, by1)"
   ]
  },
  {
   "cell_type": "code",
   "execution_count": 244,
   "metadata": {
    "collapsed": true
   },
   "outputs": [],
   "source": [
    "shape0 = np.arange(6).reshape(2, 3)"
   ]
  },
  {
   "cell_type": "code",
   "execution_count": 245,
   "metadata": {},
   "outputs": [
    {
     "data": {
      "text/plain": [
       "array([[0, 1, 2],\n",
       "       [3, 4, 5]])"
      ]
     },
     "execution_count": 245,
     "metadata": {},
     "output_type": "execute_result"
    }
   ],
   "source": [
    "shape0"
   ]
  },
  {
   "cell_type": "code",
   "execution_count": 246,
   "metadata": {
    "collapsed": true
   },
   "outputs": [],
   "source": [
    "shape1 = 3*np.arange(6).reshape(3, 2)"
   ]
  },
  {
   "cell_type": "code",
   "execution_count": 247,
   "metadata": {},
   "outputs": [
    {
     "data": {
      "text/plain": [
       "array([[ 0,  3],\n",
       "       [ 6,  9],\n",
       "       [12, 15]])"
      ]
     },
     "execution_count": 247,
     "metadata": {},
     "output_type": "execute_result"
    }
   ],
   "source": [
    "shape1"
   ]
  },
  {
   "cell_type": "code",
   "execution_count": 251,
   "metadata": {},
   "outputs": [
    {
     "data": {
      "text/plain": [
       "(array([[ 30,  39],\n",
       "        [ 84, 120]]), array([[ 9, 12, 15],\n",
       "        [27, 42, 57],\n",
       "        [45, 72, 99]]))"
      ]
     },
     "execution_count": 251,
     "metadata": {},
     "output_type": "execute_result"
    }
   ],
   "source": [
    "shape0.dot(shape1), shape1.dot(shape0)"
   ]
  },
  {
   "cell_type": "code",
   "execution_count": 250,
   "metadata": {},
   "outputs": [
    {
     "data": {
      "text/plain": [
       "(array([[ 30,  39],\n",
       "        [ 84, 120]]), array([[ 9, 12, 15],\n",
       "        [27, 42, 57],\n",
       "        [45, 72, 99]]))"
      ]
     },
     "execution_count": 250,
     "metadata": {},
     "output_type": "execute_result"
    }
   ],
   "source": [
    "np.matmul(shape0, shape1), np.matmul(shape1, shape0)"
   ]
  },
  {
   "cell_type": "markdown",
   "metadata": {},
   "source": [
    "**Binary Operators**\n",
    "\n",
    "Applied elementwise. **Note:** _Upcasting_ applies for _compound assignment_!"
   ]
  },
  {
   "cell_type": "code",
   "execution_count": 111,
   "metadata": {
    "collapsed": true
   },
   "outputs": [],
   "source": [
    "C = np.ones( (2, 3), dtype=int)"
   ]
  },
  {
   "cell_type": "code",
   "execution_count": 112,
   "metadata": {},
   "outputs": [
    {
     "data": {
      "text/plain": [
       "array([[1, 1, 1],\n",
       "       [1, 1, 1]])"
      ]
     },
     "execution_count": 112,
     "metadata": {},
     "output_type": "execute_result"
    }
   ],
   "source": [
    "C"
   ]
  },
  {
   "cell_type": "code",
   "execution_count": 113,
   "metadata": {
    "collapsed": true
   },
   "outputs": [],
   "source": [
    "D = np.random.random( (2, 3) )"
   ]
  },
  {
   "cell_type": "code",
   "execution_count": 114,
   "metadata": {},
   "outputs": [
    {
     "data": {
      "text/plain": [
       "array([[ 0.51760412,  0.9860861 ,  0.94333679],\n",
       "       [ 0.7851441 ,  0.02112656,  0.53495299]])"
      ]
     },
     "execution_count": 114,
     "metadata": {},
     "output_type": "execute_result"
    }
   ],
   "source": [
    "D"
   ]
  },
  {
   "cell_type": "code",
   "execution_count": 115,
   "metadata": {},
   "outputs": [
    {
     "ename": "TypeError",
     "evalue": "Cannot cast ufunc add output from dtype('float64') to dtype('int64') with casting rule 'same_kind'",
     "output_type": "error",
     "traceback": [
      "\u001b[0;31m---------------------------------------------------------------------------\u001b[0m",
      "\u001b[0;31mTypeError\u001b[0m                                 Traceback (most recent call last)",
      "\u001b[0;32m<ipython-input-115-c6c5f0dd0ed8>\u001b[0m in \u001b[0;36m<module>\u001b[0;34m()\u001b[0m\n\u001b[0;32m----> 1\u001b[0;31m \u001b[0mC\u001b[0m \u001b[0;34m+=\u001b[0m \u001b[0mD\u001b[0m\u001b[0;34m\u001b[0m\u001b[0m\n\u001b[0m",
      "\u001b[0;31mTypeError\u001b[0m: Cannot cast ufunc add output from dtype('float64') to dtype('int64') with casting rule 'same_kind'"
     ]
    }
   ],
   "source": [
    "C += D  # D won't be cast automatically to int (downcasting)"
   ]
  },
  {
   "cell_type": "code",
   "execution_count": 116,
   "metadata": {
    "collapsed": true
   },
   "outputs": [],
   "source": [
    "D += C  # Upcasting"
   ]
  },
  {
   "cell_type": "code",
   "execution_count": 117,
   "metadata": {},
   "outputs": [
    {
     "data": {
      "text/plain": [
       "array([[ 1.51760412,  1.9860861 ,  1.94333679],\n",
       "       [ 1.7851441 ,  1.02112656,  1.53495299]])"
      ]
     },
     "execution_count": 117,
     "metadata": {},
     "output_type": "execute_result"
    }
   ],
   "source": [
    "D"
   ]
  },
  {
   "cell_type": "code",
   "execution_count": 118,
   "metadata": {},
   "outputs": [
    {
     "data": {
      "text/plain": [
       "array([[ 2.51760412,  2.9860861 ,  2.94333679],\n",
       "       [ 2.7851441 ,  2.02112656,  2.53495299]])"
      ]
     },
     "execution_count": 118,
     "metadata": {},
     "output_type": "execute_result"
    }
   ],
   "source": [
    "C + D"
   ]
  },
  {
   "cell_type": "markdown",
   "metadata": {},
   "source": [
    "**A Useful Trick for Reusing an Array**"
   ]
  },
  {
   "cell_type": "code",
   "execution_count": 237,
   "metadata": {
    "collapsed": true
   },
   "outputs": [],
   "source": [
    "C *= 0  # Zero out an array to reuse in code, by elementwise multiply by 0 :D"
   ]
  },
  {
   "cell_type": "code",
   "execution_count": 236,
   "metadata": {},
   "outputs": [
    {
     "data": {
      "text/plain": [
       "array([[0, 0, 0],\n",
       "       [0, 0, 0]])"
      ]
     },
     "execution_count": 236,
     "metadata": {},
     "output_type": "execute_result"
    }
   ],
   "source": [
    "C"
   ]
  },
  {
   "cell_type": "markdown",
   "metadata": {},
   "source": [
    "**Unary Operations**\n",
    "\n",
    "Applied to the elements of the array regardless of its shape."
   ]
  },
  {
   "cell_type": "code",
   "execution_count": 119,
   "metadata": {
    "collapsed": true
   },
   "outputs": [],
   "source": [
    "E = np.random.random( (7, 9) )"
   ]
  },
  {
   "cell_type": "code",
   "execution_count": 121,
   "metadata": {},
   "outputs": [
    {
     "data": {
      "text/plain": [
       "(32.335245623597906, 0.029958031700565546, 0.98269300003978233)"
      ]
     },
     "execution_count": 121,
     "metadata": {},
     "output_type": "execute_result"
    }
   ],
   "source": [
    "np.sum(E), np.min(E), np.max(E)"
   ]
  },
  {
   "cell_type": "markdown",
   "metadata": {},
   "source": [
    "**Specifying the Axis for Operations**\n",
    "\n",
    "Axes are counted from 0."
   ]
  },
  {
   "cell_type": "code",
   "execution_count": 122,
   "metadata": {},
   "outputs": [
    {
     "data": {
      "text/plain": [
       "array([ 3.30274822,  3.00721265,  3.47828978])"
      ]
     },
     "execution_count": 122,
     "metadata": {},
     "output_type": "execute_result"
    }
   ],
   "source": [
    "np.sum(D, axis=0)  # Column-wise sum"
   ]
  },
  {
   "cell_type": "code",
   "execution_count": 123,
   "metadata": {},
   "outputs": [
    {
     "data": {
      "text/plain": [
       "array([ 5.44702701,  4.34122365])"
      ]
     },
     "execution_count": 123,
     "metadata": {},
     "output_type": "execute_result"
    }
   ],
   "source": [
    "np.sum(D, axis=1)  # Row-wise sum"
   ]
  },
  {
   "cell_type": "code",
   "execution_count": 124,
   "metadata": {},
   "outputs": [
    {
     "data": {
      "text/plain": [
       "array([[ 1.51760412,  3.50369022,  5.44702701],\n",
       "       [ 1.7851441 ,  2.80627066,  4.34122365]])"
      ]
     },
     "execution_count": 124,
     "metadata": {},
     "output_type": "execute_result"
    }
   ],
   "source": [
    "D.cumsum(axis=1)  # Row-wise cumulative sum"
   ]
  },
  {
   "cell_type": "markdown",
   "metadata": {},
   "source": [
    "**Universal Function**\n",
    "\n",
    "Applied _elementwise_."
   ]
  },
  {
   "cell_type": "code",
   "execution_count": 125,
   "metadata": {},
   "outputs": [
    {
     "data": {
      "text/plain": [
       "array([[ 2.51760412,  2.9860861 ,  2.94333679],\n",
       "       [ 2.7851441 ,  2.02112656,  2.53495299]])"
      ]
     },
     "execution_count": 125,
     "metadata": {},
     "output_type": "execute_result"
    }
   ],
   "source": [
    "np.add(C, D)"
   ]
  },
  {
   "cell_type": "code",
   "execution_count": 126,
   "metadata": {},
   "outputs": [
    {
     "data": {
      "text/plain": [
       "array([[ 2.71828183,  2.71828183,  2.71828183],\n",
       "       [ 2.71828183,  2.71828183,  2.71828183]])"
      ]
     },
     "execution_count": 126,
     "metadata": {},
     "output_type": "execute_result"
    }
   ],
   "source": [
    "np.exp(C)"
   ]
  },
  {
   "cell_type": "code",
   "execution_count": 127,
   "metadata": {},
   "outputs": [
    {
     "data": {
      "text/plain": [
       "array([[ 1.23191076,  1.40928567,  1.39403615],\n",
       "       [ 1.33609285,  1.01050807,  1.2389322 ]])"
      ]
     },
     "execution_count": 127,
     "metadata": {},
     "output_type": "execute_result"
    }
   ],
   "source": [
    "np.sqrt(D)"
   ]
  },
  {
   "cell_type": "markdown",
   "metadata": {},
   "source": [
    "## Indexing, Slicing, and Iteration\n",
    "\n",
    "1D arrays can be _indexed, sliced,_ and _iterated_ over like lists."
   ]
  },
  {
   "cell_type": "code",
   "execution_count": 128,
   "metadata": {
    "collapsed": true
   },
   "outputs": [],
   "source": [
    "F = np.arange(100)**1.5"
   ]
  },
  {
   "cell_type": "code",
   "execution_count": 129,
   "metadata": {},
   "outputs": [
    {
     "data": {
      "text/plain": [
       "array([   0.        ,    1.        ,    2.82842712,    5.19615242,\n",
       "          8.        ,   11.18033989,   14.69693846,   18.52025918,\n",
       "         22.627417  ,   27.        ,   31.6227766 ,   36.48287269,\n",
       "         41.56921938,   46.87216658,   52.38320341,   58.09475019,\n",
       "         64.        ,   70.09279564,   76.36753237,   82.81907993,\n",
       "         89.4427191 ,   96.23408959,  103.18914672,  110.30412504,\n",
       "        117.57550765,  125.        ,  132.57450735,  140.29611541,\n",
       "        148.16207342,  156.16977941,  164.31676725,  172.60069525,\n",
       "        181.01933598,  189.57056734,  198.25236442,  207.06279241,\n",
       "        216.        ,  225.06221362,  234.24773211,  243.55492194,\n",
       "        252.98221281,  262.52809373,  272.19110933,  281.96985654,\n",
       "        291.86298155,  301.86917696,  311.98717922,  322.21576622,\n",
       "        332.55375505,  343.        ,  353.55339059,  364.21284986,\n",
       "        374.97733265,  385.84582413,  396.81733833,  407.89091679,\n",
       "        419.06562732,  430.34056281,  441.71484014,  453.18759912,\n",
       "        464.75800154,  476.42523023,  488.18848819,  500.04699779,\n",
       "        512.        ,  524.04675364,  536.18653471,  548.41863572,\n",
       "        560.74236508,  573.15704654,  585.66201857,  598.2566339 ,\n",
       "        610.94025895,  623.71227341,  636.57206976,  649.51905284,\n",
       "        662.55263942,  675.67225783,  688.87734757,  702.16735897,\n",
       "        715.5417528 ,  729.        ,  742.54158133,  756.16598707,\n",
       "        769.87271675,  783.66127887,  797.53119061,  811.48197762,\n",
       "        825.51317373,  839.62432075,  853.81496825,  868.08467329,\n",
       "        882.43300029,  896.85952077,  911.36381319,  925.94546276,\n",
       "        940.60406123,  955.33920677,  970.15050379,  985.03756274])"
      ]
     },
     "execution_count": 129,
     "metadata": {},
     "output_type": "execute_result"
    }
   ],
   "source": [
    "F"
   ]
  },
  {
   "cell_type": "code",
   "execution_count": 130,
   "metadata": {},
   "outputs": [
    {
     "data": {
      "text/plain": [
       "262.52809373474679"
      ]
     },
     "execution_count": 130,
     "metadata": {},
     "output_type": "execute_result"
    }
   ],
   "source": [
    "F[41]"
   ]
  },
  {
   "cell_type": "code",
   "execution_count": 131,
   "metadata": {},
   "outputs": [
    {
     "data": {
      "text/plain": [
       "array([  89.4427191 ,   96.23408959,  103.18914672,  110.30412504,\n",
       "        117.57550765,  125.        ,  132.57450735,  140.29611541,\n",
       "        148.16207342,  156.16977941,  164.31676725,  172.60069525,\n",
       "        181.01933598,  189.57056734,  198.25236442,  207.06279241,\n",
       "        216.        ,  225.06221362,  234.24773211,  243.55492194,\n",
       "        252.98221281])"
      ]
     },
     "execution_count": 131,
     "metadata": {},
     "output_type": "execute_result"
    }
   ],
   "source": [
    "F[20:41]"
   ]
  },
  {
   "cell_type": "code",
   "execution_count": 134,
   "metadata": {
    "collapsed": true
   },
   "outputs": [],
   "source": [
    "F[:60:7] = -1024"
   ]
  },
  {
   "cell_type": "code",
   "execution_count": 135,
   "metadata": {},
   "outputs": [
    {
     "data": {
      "text/plain": [
       "array([ -1.02400000e+03,   1.00000000e+00,   2.82842712e+00,\n",
       "         5.19615242e+00,   8.00000000e+00,   1.11803399e+01,\n",
       "         1.46969385e+01,  -1.02400000e+03,   2.26274170e+01,\n",
       "         2.70000000e+01,   3.16227766e+01,   3.64828727e+01,\n",
       "         4.15692194e+01,   4.68721666e+01,  -1.02400000e+03,\n",
       "         5.80947502e+01,   6.40000000e+01,   7.00927956e+01,\n",
       "         7.63675324e+01,   8.28190799e+01,   8.94427191e+01,\n",
       "        -1.02400000e+03,   1.03189147e+02,   1.10304125e+02,\n",
       "         1.17575508e+02,   1.25000000e+02,   1.32574507e+02,\n",
       "         1.40296115e+02,  -1.02400000e+03,   1.56169779e+02,\n",
       "         1.64316767e+02,   1.72600695e+02,   1.81019336e+02,\n",
       "         1.89570567e+02,   1.98252364e+02,  -1.02400000e+03,\n",
       "         2.16000000e+02,   2.25062214e+02,   2.34247732e+02,\n",
       "         2.43554922e+02,   2.52982213e+02,   2.62528094e+02,\n",
       "        -1.02400000e+03,   2.81969857e+02,   2.91862982e+02,\n",
       "         3.01869177e+02,   3.11987179e+02,   3.22215766e+02,\n",
       "         3.32553755e+02,  -1.02400000e+03,   3.53553391e+02,\n",
       "         3.64212850e+02,   3.74977333e+02,   3.85845824e+02,\n",
       "         3.96817338e+02,   4.07890917e+02,  -1.02400000e+03,\n",
       "         4.30340563e+02,   4.41714840e+02,   4.53187599e+02,\n",
       "         4.64758002e+02,   4.76425230e+02,   4.88188488e+02,\n",
       "         5.00046998e+02,   5.12000000e+02,   5.24046754e+02,\n",
       "         5.36186535e+02,   5.48418636e+02,   5.60742365e+02,\n",
       "         5.73157047e+02,   5.85662019e+02,   5.98256634e+02,\n",
       "         6.10940259e+02,   6.23712273e+02,   6.36572070e+02,\n",
       "         6.49519053e+02,   6.62552639e+02,   6.75672258e+02,\n",
       "         6.88877348e+02,   7.02167359e+02,   7.15541753e+02,\n",
       "         7.29000000e+02,   7.42541581e+02,   7.56165987e+02,\n",
       "         7.69872717e+02,   7.83661279e+02,   7.97531191e+02,\n",
       "         8.11481978e+02,   8.25513174e+02,   8.39624321e+02,\n",
       "         8.53814968e+02,   8.68084673e+02,   8.82433000e+02,\n",
       "         8.96859521e+02,   9.11363813e+02,   9.25945463e+02,\n",
       "         9.40604061e+02,   9.55339207e+02,   9.70150504e+02,\n",
       "         9.85037563e+02])"
      ]
     },
     "execution_count": 135,
     "metadata": {},
     "output_type": "execute_result"
    }
   ],
   "source": [
    "F"
   ]
  },
  {
   "cell_type": "code",
   "execution_count": 138,
   "metadata": {},
   "outputs": [
    {
     "name": "stdout",
     "output_type": "stream",
     "text": [
      "nan\n",
      "1.0\n",
      "1.41421356237\n",
      "1.73205080757\n",
      "2.0\n",
      "2.2360679775\n",
      "2.44948974278\n",
      "nan\n",
      "2.82842712475\n",
      "3.0\n"
     ]
    },
    {
     "name": "stderr",
     "output_type": "stream",
     "text": [
      "/Applications/anaconda/lib/python3.5/site-packages/ipykernel/__main__.py:2: RuntimeWarning: invalid value encountered in double_scalars\n",
      "  from ipykernel import kernelapp as app\n"
     ]
    }
   ],
   "source": [
    "for f in F[:10]:\n",
    "    print(f**(1/3.))"
   ]
  },
  {
   "cell_type": "markdown",
   "metadata": {},
   "source": [
    "_Mutlidimensional_ arrays have one index per axis, collected in a tuple."
   ]
  },
  {
   "cell_type": "code",
   "execution_count": 151,
   "metadata": {
    "collapsed": true
   },
   "outputs": [],
   "source": [
    "H = np.fromfunction(lambda x,y:10*x+y, (5, 4), dtype=int)"
   ]
  },
  {
   "cell_type": "code",
   "execution_count": 152,
   "metadata": {},
   "outputs": [
    {
     "data": {
      "text/plain": [
       "(5, 4)"
      ]
     },
     "execution_count": 152,
     "metadata": {},
     "output_type": "execute_result"
    }
   ],
   "source": [
    "H.shape"
   ]
  },
  {
   "cell_type": "code",
   "execution_count": 153,
   "metadata": {},
   "outputs": [
    {
     "data": {
      "text/plain": [
       "array([[ 0,  1,  2,  3],\n",
       "       [10, 11, 12, 13],\n",
       "       [20, 21, 22, 23],\n",
       "       [30, 31, 32, 33],\n",
       "       [40, 41, 42, 43]])"
      ]
     },
     "execution_count": 153,
     "metadata": {},
     "output_type": "execute_result"
    }
   ],
   "source": [
    "H"
   ]
  },
  {
   "cell_type": "code",
   "execution_count": 154,
   "metadata": {},
   "outputs": [
    {
     "data": {
      "text/plain": [
       "32"
      ]
     },
     "execution_count": 154,
     "metadata": {},
     "output_type": "execute_result"
    }
   ],
   "source": [
    "H[3, 2]"
   ]
  },
  {
   "cell_type": "code",
   "execution_count": 155,
   "metadata": {},
   "outputs": [
    {
     "data": {
      "text/plain": [
       "array([23, 33])"
      ]
     },
     "execution_count": 155,
     "metadata": {},
     "output_type": "execute_result"
    }
   ],
   "source": [
    "H[2:4, 3]"
   ]
  },
  {
   "cell_type": "code",
   "execution_count": 156,
   "metadata": {},
   "outputs": [
    {
     "data": {
      "text/plain": [
       "array([ 3, 13, 23, 33, 43])"
      ]
     },
     "execution_count": 156,
     "metadata": {},
     "output_type": "execute_result"
    }
   ],
   "source": [
    "H[:, 3]"
   ]
  },
  {
   "cell_type": "code",
   "execution_count": 157,
   "metadata": {},
   "outputs": [
    {
     "data": {
      "text/plain": [
       "array([[10, 11, 12, 13],\n",
       "       [20, 21, 22, 23]])"
      ]
     },
     "execution_count": 157,
     "metadata": {},
     "output_type": "execute_result"
    }
   ],
   "source": [
    "H[1:3, :]"
   ]
  },
  {
   "cell_type": "markdown",
   "metadata": {},
   "source": [
    "Missing indices are considered _complete slices (as in `:`)_."
   ]
  },
  {
   "cell_type": "code",
   "execution_count": 158,
   "metadata": {},
   "outputs": [
    {
     "data": {
      "text/plain": [
       "array([40, 41, 42, 43])"
      ]
     },
     "execution_count": 158,
     "metadata": {},
     "output_type": "execute_result"
    }
   ],
   "source": [
    "H[-1]  # Equivalent to H[-1, :]"
   ]
  },
  {
   "cell_type": "code",
   "execution_count": 159,
   "metadata": {},
   "outputs": [
    {
     "data": {
      "text/plain": [
       "array([40, 41, 42, 43])"
      ]
     },
     "execution_count": 159,
     "metadata": {},
     "output_type": "execute_result"
    }
   ],
   "source": [
    "H[-1, ...]  # An alternative way to acheive the same things"
   ]
  },
  {
   "cell_type": "code",
   "execution_count": 160,
   "metadata": {
    "collapsed": true
   },
   "outputs": [],
   "source": [
    "J = np.arange(2*3*5).reshape(2, 3, 5)"
   ]
  },
  {
   "cell_type": "code",
   "execution_count": 161,
   "metadata": {},
   "outputs": [
    {
     "data": {
      "text/plain": [
       "array([25, 26, 27, 28, 29])"
      ]
     },
     "execution_count": 161,
     "metadata": {},
     "output_type": "execute_result"
    }
   ],
   "source": [
    "J[1, 2, ...]"
   ]
  },
  {
   "cell_type": "code",
   "execution_count": 164,
   "metadata": {},
   "outputs": [
    {
     "data": {
      "text/plain": [
       "array([[15, 16, 17, 18, 19],\n",
       "       [20, 21, 22, 23, 24],\n",
       "       [25, 26, 27, 28, 29]])"
      ]
     },
     "execution_count": 164,
     "metadata": {},
     "output_type": "execute_result"
    }
   ],
   "source": [
    "J[1, ...]"
   ]
  },
  {
   "cell_type": "code",
   "execution_count": 165,
   "metadata": {},
   "outputs": [
    {
     "data": {
      "text/plain": [
       "array([[ 4,  9, 14],\n",
       "       [19, 24, 29]])"
      ]
     },
     "execution_count": 165,
     "metadata": {},
     "output_type": "execute_result"
    }
   ],
   "source": [
    "J[..., 4]"
   ]
  },
  {
   "cell_type": "markdown",
   "metadata": {},
   "source": [
    "Iteration over _multidimensiona_ arrays is performed over the _**first** axes (\"rows\")_."
   ]
  },
  {
   "cell_type": "code",
   "execution_count": 166,
   "metadata": {},
   "outputs": [
    {
     "name": "stdout",
     "output_type": "stream",
     "text": [
      "[[ 0  1  2  3  4]\n",
      " [ 5  6  7  8  9]\n",
      " [10 11 12 13 14]]\n",
      "[[15 16 17 18 19]\n",
      " [20 21 22 23 24]\n",
      " [25 26 27 28 29]]\n"
     ]
    }
   ],
   "source": [
    "for row in J:\n",
    "    print(row)"
   ]
  },
  {
   "cell_type": "markdown",
   "metadata": {},
   "source": [
    "To iterate over all the elements of the array, _flatten_ the array with `numpy.flat`."
   ]
  },
  {
   "cell_type": "code",
   "execution_count": 167,
   "metadata": {},
   "outputs": [
    {
     "name": "stdout",
     "output_type": "stream",
     "text": [
      "0\n",
      "1\n",
      "2\n",
      "3\n",
      "4\n",
      "5\n",
      "6\n",
      "7\n",
      "8\n",
      "9\n",
      "10\n",
      "11\n",
      "12\n",
      "13\n",
      "14\n",
      "15\n",
      "16\n",
      "17\n",
      "18\n",
      "19\n",
      "20\n",
      "21\n",
      "22\n",
      "23\n",
      "24\n",
      "25\n",
      "26\n",
      "27\n",
      "28\n",
      "29\n"
     ]
    }
   ],
   "source": [
    "for e in J.flat:\n",
    "    print(e)"
   ]
  },
  {
   "cell_type": "markdown",
   "metadata": {},
   "source": [
    "## Shape Manipulation\n",
    "\n",
    "### `np.reshape`\n",
    "\n",
    "`np.reshape` does not change the original array. Return a new array."
   ]
  },
  {
   "cell_type": "code",
   "execution_count": 175,
   "metadata": {
    "collapsed": true
   },
   "outputs": [],
   "source": [
    "K = np.array([1, 2, 5, 7])"
   ]
  },
  {
   "cell_type": "code",
   "execution_count": 176,
   "metadata": {},
   "outputs": [
    {
     "data": {
      "text/plain": [
       "(4,)"
      ]
     },
     "execution_count": 176,
     "metadata": {},
     "output_type": "execute_result"
    }
   ],
   "source": [
    "K.shape"
   ]
  },
  {
   "cell_type": "code",
   "execution_count": 177,
   "metadata": {},
   "outputs": [
    {
     "data": {
      "text/plain": [
       "array([1, 2, 5, 7])"
      ]
     },
     "execution_count": 177,
     "metadata": {},
     "output_type": "execute_result"
    }
   ],
   "source": [
    "K"
   ]
  },
  {
   "cell_type": "code",
   "execution_count": 178,
   "metadata": {
    "collapsed": true
   },
   "outputs": [],
   "source": [
    "KR = K.reshape(1, 4)"
   ]
  },
  {
   "cell_type": "code",
   "execution_count": 179,
   "metadata": {},
   "outputs": [
    {
     "data": {
      "text/plain": [
       "(1, 4)"
      ]
     },
     "execution_count": 179,
     "metadata": {},
     "output_type": "execute_result"
    }
   ],
   "source": [
    "KR.shape"
   ]
  },
  {
   "cell_type": "code",
   "execution_count": 180,
   "metadata": {},
   "outputs": [
    {
     "data": {
      "text/plain": [
       "array([[1, 2, 5, 7]])"
      ]
     },
     "execution_count": 180,
     "metadata": {},
     "output_type": "execute_result"
    }
   ],
   "source": [
    "KR  # Notice the extra square brackets, adding the second dimension (axis 1)"
   ]
  },
  {
   "cell_type": "code",
   "execution_count": 181,
   "metadata": {
    "collapsed": true
   },
   "outputs": [],
   "source": [
    "L = np.arange(4*6).reshape(4, 6)"
   ]
  },
  {
   "cell_type": "code",
   "execution_count": 182,
   "metadata": {},
   "outputs": [
    {
     "data": {
      "text/plain": [
       "array([[ 0,  1,  2,  3,  4,  5],\n",
       "       [ 6,  7,  8,  9, 10, 11],\n",
       "       [12, 13, 14, 15, 16, 17],\n",
       "       [18, 19, 20, 21, 22, 23]])"
      ]
     },
     "execution_count": 182,
     "metadata": {},
     "output_type": "execute_result"
    }
   ],
   "source": [
    "L"
   ]
  },
  {
   "cell_type": "code",
   "execution_count": 183,
   "metadata": {},
   "outputs": [
    {
     "data": {
      "text/plain": [
       "array([[ 0,  1,  2,  3],\n",
       "       [ 4,  5,  6,  7],\n",
       "       [ 8,  9, 10, 11],\n",
       "       [12, 13, 14, 15],\n",
       "       [16, 17, 18, 19],\n",
       "       [20, 21, 22, 23]])"
      ]
     },
     "execution_count": 183,
     "metadata": {},
     "output_type": "execute_result"
    }
   ],
   "source": [
    "L.reshape(6, 4)"
   ]
  },
  {
   "cell_type": "code",
   "execution_count": 187,
   "metadata": {},
   "outputs": [
    {
     "data": {
      "text/plain": [
       "array([ 0,  1,  2,  3,  4,  5,  6,  7,  8,  9, 10, 11, 12, 13, 14, 15, 16,\n",
       "       17, 18, 19, 20, 21, 22, 23])"
      ]
     },
     "execution_count": 187,
     "metadata": {},
     "output_type": "execute_result"
    }
   ],
   "source": [
    "L.ravel()  # Flatten w/ C-style ordering (i.e. rightmost index changes the fastest, so [0,0] then [0,1], etc)"
   ]
  },
  {
   "cell_type": "code",
   "execution_count": 186,
   "metadata": {},
   "outputs": [
    {
     "data": {
      "text/plain": [
       "array([[ 0,  6, 12, 18],\n",
       "       [ 1,  7, 13, 19],\n",
       "       [ 2,  8, 14, 20],\n",
       "       [ 3,  9, 15, 21],\n",
       "       [ 4, 10, 16, 22],\n",
       "       [ 5, 11, 17, 23]])"
      ]
     },
     "execution_count": 186,
     "metadata": {},
     "output_type": "execute_result"
    }
   ],
   "source": [
    "L.T  # Transpose (NOTE: Same shape as, but very different values from L.reshape(6, 4)!!!)"
   ]
  },
  {
   "cell_type": "code",
   "execution_count": 188,
   "metadata": {},
   "outputs": [
    {
     "data": {
      "text/plain": [
       "array([[ 0,  1,  2,  3,  4,  5,  6,  7],\n",
       "       [ 8,  9, 10, 11, 12, 13, 14, 15],\n",
       "       [16, 17, 18, 19, 20, 21, 22, 23]])"
      ]
     },
     "execution_count": 188,
     "metadata": {},
     "output_type": "execute_result"
    }
   ],
   "source": [
    "L.reshape(3, -1)  # -1 indicates to calculate the rest of the arguments"
   ]
  },
  {
   "cell_type": "markdown",
   "metadata": {},
   "source": [
    "## Stacking Arrays\n",
    "\n",
    "### `np.vstack()`, `np.hstack()`, `np.column_stack()`, `np.concatenate()`"
   ]
  },
  {
   "cell_type": "code",
   "execution_count": 197,
   "metadata": {
    "collapsed": true
   },
   "outputs": [],
   "source": [
    "ra = np.floor( 10 * np.random.random( (2, 2) ) )\n",
    "rb = np.floor( 10 * np.random.random( (2, 2) ) )"
   ]
  },
  {
   "cell_type": "code",
   "execution_count": 198,
   "metadata": {},
   "outputs": [
    {
     "data": {
      "text/plain": [
       "array([[ 4.,  8.],\n",
       "       [ 3.,  9.]])"
      ]
     },
     "execution_count": 198,
     "metadata": {},
     "output_type": "execute_result"
    }
   ],
   "source": [
    "ra"
   ]
  },
  {
   "cell_type": "code",
   "execution_count": 199,
   "metadata": {},
   "outputs": [
    {
     "data": {
      "text/plain": [
       "array([[ 1.,  1.],\n",
       "       [ 9.,  9.]])"
      ]
     },
     "execution_count": 199,
     "metadata": {},
     "output_type": "execute_result"
    }
   ],
   "source": [
    "rb"
   ]
  },
  {
   "cell_type": "code",
   "execution_count": 201,
   "metadata": {},
   "outputs": [
    {
     "data": {
      "text/plain": [
       "array([[ 4.,  8.],\n",
       "       [ 3.,  9.],\n",
       "       [ 1.,  1.],\n",
       "       [ 9.,  9.]])"
      ]
     },
     "execution_count": 201,
     "metadata": {},
     "output_type": "execute_result"
    }
   ],
   "source": [
    "np.vstack( (ra, rb) )"
   ]
  },
  {
   "cell_type": "code",
   "execution_count": 202,
   "metadata": {},
   "outputs": [
    {
     "data": {
      "text/plain": [
       "array([[ 1.,  1.,  4.,  8.],\n",
       "       [ 9.,  9.,  3.,  9.]])"
      ]
     },
     "execution_count": 202,
     "metadata": {},
     "output_type": "execute_result"
    }
   ],
   "source": [
    "np.hstack( (rb, ra) )"
   ]
  },
  {
   "cell_type": "code",
   "execution_count": 204,
   "metadata": {},
   "outputs": [
    {
     "data": {
      "text/plain": [
       "array([[ 4.,  8.,  1.,  1.],\n",
       "       [ 3.,  9.,  9.,  9.]])"
      ]
     },
     "execution_count": 204,
     "metadata": {},
     "output_type": "execute_result"
    }
   ],
   "source": [
    "np.column_stack( (ra, rb) )   # For 2D arrays, equivalent to hstack()"
   ]
  },
  {
   "cell_type": "code",
   "execution_count": 206,
   "metadata": {},
   "outputs": [
    {
     "data": {
      "text/plain": [
       "array([[ 3.        ,  0.13429577],\n",
       "       [ 4.        ,  0.57469205],\n",
       "       [ 6.        ,  0.20300442],\n",
       "       [ 8.        ,  0.56921239]])"
      ]
     },
     "execution_count": 206,
     "metadata": {},
     "output_type": "execute_result"
    }
   ],
   "source": [
    "np.column_stack( (np.array([3,4,6,8]), np.random.random(4)) )  # For vectors, it stacks them as columns in a 2D array"
   ]
  },
  {
   "cell_type": "code",
   "execution_count": 207,
   "metadata": {},
   "outputs": [
    {
     "data": {
      "text/plain": [
       "array([[ 3.        ,  4.        ,  6.        ,  8.        ],\n",
       "       [ 0.64198522,  0.56386008,  0.00966737,  0.037262  ]])"
      ]
     },
     "execution_count": 207,
     "metadata": {},
     "output_type": "execute_result"
    }
   ],
   "source": [
    "np.vstack( (np.array([3,4,6,8]), np.random.random(4)) )  # For vectors, vstack() behaves differently"
   ]
  },
  {
   "cell_type": "code",
   "execution_count": 210,
   "metadata": {},
   "outputs": [
    {
     "data": {
      "text/plain": [
       "array([[ 3.        ],\n",
       "       [ 4.        ],\n",
       "       [ 6.        ],\n",
       "       [ 8.        ],\n",
       "       [ 0.63411624],\n",
       "       [ 0.55348191],\n",
       "       [ 0.2383115 ],\n",
       "       [ 0.35753028]])"
      ]
     },
     "execution_count": 210,
     "metadata": {},
     "output_type": "execute_result"
    }
   ],
   "source": [
    "np.vstack( (np.array([3,4,6,8])[:,np.newaxis], np.random.random(4)[:,np.newaxis]) )  # To stack vertically, reshape with np.newaxis"
   ]
  },
  {
   "cell_type": "code",
   "execution_count": 220,
   "metadata": {
    "collapsed": true
   },
   "outputs": [],
   "source": [
    "v0 = np.array([3, 4, 6, 8])  # How to convert this to a column vector?"
   ]
  },
  {
   "cell_type": "code",
   "execution_count": 221,
   "metadata": {},
   "outputs": [
    {
     "data": {
      "text/plain": [
       "(4,)"
      ]
     },
     "execution_count": 221,
     "metadata": {},
     "output_type": "execute_result"
    }
   ],
   "source": [
    "v0.shape  # A (row) vector has dimensions (x,). This only one dimension, with x number of elements."
   ]
  },
  {
   "cell_type": "code",
   "execution_count": 212,
   "metadata": {},
   "outputs": [
    {
     "data": {
      "text/plain": [
       "array([[3, 4, 6, 8]])"
      ]
     },
     "execution_count": 212,
     "metadata": {},
     "output_type": "execute_result"
    }
   ],
   "source": [
    "v0.reshape(1, 4)  # This gives us a (1, 4) array, not a column vector!!!"
   ]
  },
  {
   "cell_type": "code",
   "execution_count": 223,
   "metadata": {},
   "outputs": [
    {
     "data": {
      "text/plain": [
       "array([[3],\n",
       "       [4],\n",
       "       [6],\n",
       "       [8]])"
      ]
     },
     "execution_count": 223,
     "metadata": {},
     "output_type": "execute_result"
    }
   ],
   "source": [
    "v0.reshape(4, 1)  # The column vector is (4, 1)"
   ]
  },
  {
   "cell_type": "markdown",
   "metadata": {},
   "source": [
    "***Using `np.newaxes` or `None`***\n",
    "\n",
    "`np.reshape(x, 1)` and `np.reshape(1, x)` can be done with a slicing trick, utilizing the `np.newaxis` object to create _an axis of **length 1**_.\n",
    "\n",
    "Documentation [link](https://docs.scipy.org/doc/numpy/reference/arrays.indexing.html#numpy.newaxis)."
   ]
  },
  {
   "cell_type": "code",
   "execution_count": 222,
   "metadata": {},
   "outputs": [],
   "source": [
    "c0 = v0[:, np.newaxis]  "
   ]
  },
  {
   "cell_type": "code",
   "execution_count": 219,
   "metadata": {},
   "outputs": [
    {
     "data": {
      "text/plain": [
       "(4, 1)"
      ]
     },
     "execution_count": 219,
     "metadata": {},
     "output_type": "execute_result"
    }
   ],
   "source": [
    "c0.shape"
   ]
  },
  {
   "cell_type": "code",
   "execution_count": 224,
   "metadata": {},
   "outputs": [
    {
     "data": {
      "text/plain": [
       "array([[3],\n",
       "       [4],\n",
       "       [6],\n",
       "       [8]])"
      ]
     },
     "execution_count": 224,
     "metadata": {},
     "output_type": "execute_result"
    }
   ],
   "source": [
    "c0"
   ]
  },
  {
   "cell_type": "code",
   "execution_count": 225,
   "metadata": {},
   "outputs": [
    {
     "data": {
      "text/plain": [
       "array([[3],\n",
       "       [4],\n",
       "       [6],\n",
       "       [8]])"
      ]
     },
     "execution_count": 225,
     "metadata": {},
     "output_type": "execute_result"
    }
   ],
   "source": [
    "v0[:, None]  # None is equivalent to np.newaxis"
   ]
  },
  {
   "cell_type": "code",
   "execution_count": 234,
   "metadata": {},
   "outputs": [
    {
     "data": {
      "text/plain": [
       "array([[3, 4, 6, 8]])"
      ]
     },
     "execution_count": 234,
     "metadata": {},
     "output_type": "execute_result"
    }
   ],
   "source": [
    "v0[None, :]  # Equivalent to np.reshape(1, 4) (that is, from (4,) to (1, 4))"
   ]
  },
  {
   "cell_type": "markdown",
   "metadata": {},
   "source": [
    "***Stacking Numbers Along an Axis with `np.r_` and `np.c_`***\n",
    "\n",
    "The constructs `np.r_` and `np.c_` translate _slice objects_ to concatenation, along the first and second axes, respectively. They accept range arguments.\n",
    "\n",
    "Documentation [link](https://docs.scipy.org/doc/numpy-dev/reference/generated/numpy.r_.html#numpy.r_) for advanced usage. See also [`concatenate`](https://docs.scipy.org/doc/numpy-dev/reference/generated/numpy.concatenate.html#numpy.concatenate)."
   ]
  },
  {
   "cell_type": "code",
   "execution_count": 227,
   "metadata": {},
   "outputs": [
    {
     "data": {
      "text/plain": [
       "array([4, 5, 6, 7, 2, 1, 3, 6])"
      ]
     },
     "execution_count": 227,
     "metadata": {},
     "output_type": "execute_result"
    }
   ],
   "source": [
    "np.r_[4, 5, 6, 7, 2, 1, 3, 6]"
   ]
  },
  {
   "cell_type": "code",
   "execution_count": 228,
   "metadata": {},
   "outputs": [
    {
     "data": {
      "text/plain": [
       "array([ 4,  5,  6,  7,  8,  9, 10, 11, 12, 13, 14, 15, 16, 19, 20, 21, 22,\n",
       "       23, 24, 27])"
      ]
     },
     "execution_count": 228,
     "metadata": {},
     "output_type": "execute_result"
    }
   ],
   "source": [
    "np.r_[4:17, 19:25, 27]"
   ]
  },
  {
   "cell_type": "code",
   "execution_count": 231,
   "metadata": {},
   "outputs": [
    {
     "data": {
      "text/plain": [
       "array([[ 5, 10],\n",
       "       [ 6, 11]])"
      ]
     },
     "execution_count": 231,
     "metadata": {},
     "output_type": "execute_result"
    }
   ],
   "source": [
    "np.c_[5:7, 10:12]"
   ]
  },
  {
   "cell_type": "code",
   "execution_count": 232,
   "metadata": {},
   "outputs": [
    {
     "data": {
      "text/plain": [
       "array([[1, 2, 3, 0, 0, 4, 5, 6]])"
      ]
     },
     "execution_count": 232,
     "metadata": {},
     "output_type": "execute_result"
    }
   ],
   "source": [
    "np.c_[np.array([[1,2,3]]), 0, 0, np.array([[4,5,6]])]"
   ]
  },
  {
   "cell_type": "code",
   "execution_count": null,
   "metadata": {
    "collapsed": true
   },
   "outputs": [],
   "source": []
  }
 ],
 "metadata": {
  "kernelspec": {
   "display_name": "Python [default]",
   "language": "python",
   "name": "python3"
  },
  "language_info": {
   "codemirror_mode": {
    "name": "ipython",
    "version": 3
   },
   "file_extension": ".py",
   "mimetype": "text/x-python",
   "name": "python",
   "nbconvert_exporter": "python",
   "pygments_lexer": "ipython3",
   "version": "3.5.3"
  }
 },
 "nbformat": 4,
 "nbformat_minor": 2
}
